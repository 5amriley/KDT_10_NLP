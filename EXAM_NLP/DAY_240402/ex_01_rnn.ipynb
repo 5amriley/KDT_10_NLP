{
 "cells": [
  {
   "cell_type": "markdown",
   "metadata": {},
   "source": [
    "### [ 순환신경망 RNN ]"
   ]
  },
  {
   "cell_type": "code",
   "execution_count": 1,
   "metadata": {},
   "outputs": [],
   "source": [
    "import torch\n",
    "import torch.nn as nn"
   ]
  },
  {
   "cell_type": "code",
   "execution_count": 40,
   "metadata": {},
   "outputs": [],
   "source": [
    "### 설계: 다층 RNN, 층 2개\n",
    "### -------------------------------------------------------------------------\n",
    "### 입력 초기 텐서들\n",
    "input = torch.randn(1, 4, 10)   # 입력 데이터 (배치크기, 시퀀스(1문장 구성 단어수), 피처길이(단어사전에 속하는 단어개수))\n",
    "h0 = torch.randn(1, 1, 5)       # 히든 스테이트 초기화 값 (양방향*층수, 배치크기, Cell 개수)\n",
    "\n",
    "### RNN 인스턴스 생성\n",
    "rnn = nn.RNN(input_size=10, hidden_size=5, num_layers=1, batch_first=True)\n",
    "\n",
    "### 출력 텐서들\n",
    "output, hn = rnn(input, h0)\n",
    "# output, hn = rnn(input)         # h0 안 넣으면 알아서 히든 스테이트 초기화값을 넣어서 쓴다."
   ]
  },
  {
   "cell_type": "code",
   "execution_count": 41,
   "metadata": {},
   "outputs": [
    {
     "data": {
      "text/plain": [
       "=================================================================\n",
       "Layer (type:depth-idx)                   Param #\n",
       "=================================================================\n",
       "RNN                                      85\n",
       "=================================================================\n",
       "Total params: 85\n",
       "Trainable params: 85\n",
       "Non-trainable params: 0\n",
       "================================================================="
      ]
     },
     "execution_count": 41,
     "metadata": {},
     "output_type": "execute_result"
    }
   ],
   "source": [
    "from torchinfo import summary\n",
    "\n",
    "summary(rnn)"
   ]
  },
  {
   "cell_type": "code",
   "execution_count": 42,
   "metadata": {},
   "outputs": [
    {
     "name": "stdout",
     "output_type": "stream",
     "text": [
      "[all_weights] - 1개\n",
      "[weight_ih_l0]\n",
      "Parameter containing:\n",
      "tensor([[ 0.1776,  0.2616, -0.3637, -0.2429, -0.0573, -0.3143, -0.1186, -0.2519,\n",
      "         -0.4063, -0.3518],\n",
      "        [ 0.0232, -0.3551, -0.4103,  0.1770, -0.3426,  0.2992, -0.3128,  0.1942,\n",
      "          0.1889, -0.4359],\n",
      "        [-0.3780,  0.4257,  0.3236, -0.2057,  0.0739, -0.3492,  0.0562, -0.1391,\n",
      "          0.0453, -0.3836],\n",
      "        [-0.1803,  0.2857,  0.2840,  0.3967,  0.3190,  0.1437,  0.1609,  0.1531,\n",
      "         -0.3488, -0.1069],\n",
      "        [-0.3813, -0.3284, -0.1354, -0.4229, -0.2795,  0.0730, -0.1025,  0.2255,\n",
      "          0.0223, -0.0465]], requires_grad=True)\n",
      "\n",
      "[weight_hh_l0]\n",
      "Parameter containing:\n",
      "tensor([[-0.1540,  0.0612, -0.3471, -0.0861,  0.0197],\n",
      "        [-0.1405, -0.0890,  0.3613,  0.0570,  0.2447],\n",
      "        [-0.4454,  0.4163,  0.1659, -0.2518,  0.2495],\n",
      "        [ 0.3014,  0.0802,  0.3253,  0.2499,  0.1611],\n",
      "        [ 0.3853,  0.1388, -0.1000,  0.2680, -0.3964]], requires_grad=True)\n",
      "\n",
      "[bias_ih_l0]\n",
      "Parameter containing:\n",
      "tensor([0.4310, 0.4152, 0.2837, 0.3627, 0.2025], requires_grad=True)\n",
      "\n",
      "[bias_hh_l0]\n",
      "Parameter containing:\n",
      "tensor([-0.2576, -0.3664, -0.3665,  0.2559, -0.2280], requires_grad=True)\n",
      "\n"
     ]
    }
   ],
   "source": [
    "## rnn 모델의 속성 출력\n",
    "print(f'[all_weights] - {len(rnn.all_weights)}개')\n",
    "\n",
    "for name, param in rnn.named_parameters():\n",
    "    print(f'[{name}]\\n{param}\\n')"
   ]
  },
  {
   "cell_type": "code",
   "execution_count": 38,
   "metadata": {},
   "outputs": [
    {
     "data": {
      "text/plain": [
       "(torch.Size([1, 4, 2]), 3)"
      ]
     },
     "execution_count": 38,
     "metadata": {},
     "output_type": "execute_result"
    }
   ],
   "source": [
    "### RNN 출력 텐서 output\n",
    "output.shape, output.ndim"
   ]
  },
  {
   "cell_type": "code",
   "execution_count": null,
   "metadata": {},
   "outputs": [],
   "source": []
  }
 ],
 "metadata": {
  "kernelspec": {
   "display_name": "Text_017_220_38",
   "language": "python",
   "name": "python3"
  },
  "language_info": {
   "codemirror_mode": {
    "name": "ipython",
    "version": 3
   },
   "file_extension": ".py",
   "mimetype": "text/x-python",
   "name": "python",
   "nbconvert_exporter": "python",
   "pygments_lexer": "ipython3",
   "version": "3.8.19"
  }
 },
 "nbformat": 4,
 "nbformat_minor": 2
}
