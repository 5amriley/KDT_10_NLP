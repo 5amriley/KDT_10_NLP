{
 "cells": [
  {
   "cell_type": "code",
   "execution_count": 1,
   "metadata": {},
   "outputs": [],
   "source": [
    "import torch\n",
    "import torch.nn as nn"
   ]
  },
  {
   "cell_type": "code",
   "execution_count": 2,
   "metadata": {},
   "outputs": [],
   "source": [
    "HIDDEN_SIZE = 1     # 히든개수\n",
    "NUM_LAYERS = 1      # 양방향 * 층수\n",
    "SEQ_LENGTH = 3      # 시퀀스 길이\n",
    "BATCH_SIZE = 1      # 배치크기\n",
    "\n",
    "### 데이터 및 초기 Hidden State\n",
    "input = torch.randn(BATCH_SIZE, SEQ_LENGTH, 10)         # 입력 데이터 (배치크기, 시퀀스 길이, 피처길이)\n",
    "h0 = torch.randn(NUM_LAYERS, BATCH_SIZE, HIDDEN_SIZE)   # 히든 초기값 (첫 번째 Hidden state 초기값)\n",
    "\n",
    "### RNN 인스턴스 생성\n",
    "rnn = nn.RNN(input_size=10, hidden_size=HIDDEN_SIZE, num_layers=NUM_LAYERS, batch_first=True)\n",
    "\n",
    "### RNN 출력\n",
    "output, hn = rnn(input, h0)"
   ]
  },
  {
   "cell_type": "code",
   "execution_count": 7,
   "metadata": {},
   "outputs": [
    {
     "name": "stdout",
     "output_type": "stream",
     "text": [
      "[INPUT DATA]\n",
      "- SHAPE : torch.Size([1, 3, 10])    DIM : 3D\n",
      "tensor([[[-0.0935,  1.0309, -0.1065,  0.2588,  0.5730,  0.8237, -0.6493,\n",
      "           0.9478, -0.3394,  0.3470],\n",
      "         [ 0.2725,  1.1158, -0.2433, -2.0610, -0.0228,  0.6511, -0.6514,\n",
      "          -0.5838, -2.8151, -0.1927],\n",
      "         [ 1.0441, -0.7733,  0.9519, -0.7485,  1.2616, -0.3369,  0.9378,\n",
      "           0.4350, -1.0136, -1.0406]]])\n"
     ]
    }
   ],
   "source": [
    "print(f'[INPUT DATA]\\n- SHAPE : {input.shape}    DIM : {input.ndim}D')\n",
    "print(input)"
   ]
  },
  {
   "cell_type": "code",
   "execution_count": 6,
   "metadata": {},
   "outputs": [
    {
     "name": "stdout",
     "output_type": "stream",
     "text": [
      "[OUTPUT DATA]\n",
      "- SHAPE : torch.Size([1, 3, 1])    DIM : 3D\n",
      "tensor([[[0.9081],\n",
      "         [0.9986],\n",
      "         [0.9022]]], grad_fn=<TransposeBackward1>)\n"
     ]
    }
   ],
   "source": [
    "print(f'[OUTPUT DATA]\\n- SHAPE : {output.shape}    DIM : {output.ndim}D')\n",
    "print(output)   # output (각각의 hidden state)"
   ]
  },
  {
   "cell_type": "code",
   "execution_count": 8,
   "metadata": {},
   "outputs": [
    {
     "name": "stdout",
     "output_type": "stream",
     "text": [
      "[hn DATA]\n",
      "- SHAPE : torch.Size([1, 1, 1])    DIM : 3D\n",
      "tensor([[[0.9022]]], grad_fn=<StackBackward0>)\n"
     ]
    }
   ],
   "source": [
    "print(f'[hn DATA]\\n- SHAPE : {hn.shape}    DIM : {hn.ndim}D')\n",
    "print(hn)   # 마지막 hidden stte (output 끝 값과 동일)"
   ]
  },
  {
   "cell_type": "code",
   "execution_count": 11,
   "metadata": {},
   "outputs": [
    {
     "name": "stdout",
     "output_type": "stream",
     "text": [
      "[RNN PARAMETERS]\n",
      "----[weight_ih_l0]\n",
      "Parameter containing:\n",
      "tensor([[-0.8951, -0.1725,  0.5153, -0.4521, -0.6114,  0.3087,  0.4104,  0.5817,\n",
      "         -0.9892,  0.1526]], requires_grad=True)\n",
      "\n",
      "----[weight_hh_l0]\n",
      "Parameter containing:\n",
      "tensor([[-0.5120]], requires_grad=True)\n",
      "\n",
      "----[bias_ih_l0]\n",
      "Parameter containing:\n",
      "tensor([0.9010], requires_grad=True)\n",
      "\n",
      "----[bias_hh_l0]\n",
      "Parameter containing:\n",
      "tensor([0.4602], requires_grad=True)\n",
      "\n"
     ]
    }
   ],
   "source": [
    "print(f'[RNN PARAMETERS]')\n",
    "for name, param in rnn.named_parameters():\n",
    "    print(f'----[{name}]\\n{param}\\n')"
   ]
  },
  {
   "cell_type": "code",
   "execution_count": null,
   "metadata": {},
   "outputs": [],
   "source": [
    "class abcd:\n",
    "\n",
    "    def __init__(self, a, b, c):\n",
    "        a : int\n",
    "        b : float\n",
    "        c : str\n",
    "\n",
    "        print(a)"
   ]
  }
 ],
 "metadata": {
  "kernelspec": {
   "display_name": "Text_017_220_38",
   "language": "python",
   "name": "python3"
  },
  "language_info": {
   "codemirror_mode": {
    "name": "ipython",
    "version": 3
   },
   "file_extension": ".py",
   "mimetype": "text/x-python",
   "name": "python",
   "nbconvert_exporter": "python",
   "pygments_lexer": "ipython3",
   "version": "3.8.19"
  }
 },
 "nbformat": 4,
 "nbformat_minor": 2
}
