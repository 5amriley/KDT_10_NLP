{
 "cells": [
  {
   "cell_type": "markdown",
   "metadata": {},
   "source": [
    "#### [iterator 살펴보기]\n",
    "- iterable : for ~ in 으로 요소 제어 가능한 자료형, __iter__() 메서드 가진 자료형 (list, tuple, str, ...)\n",
    "- iterator : iter() 함수로 생성되고, next() 내장하고 있는 자료형"
   ]
  },
  {
   "cell_type": "code",
   "execution_count": 2,
   "metadata": {},
   "outputs": [
    {
     "ename": "TypeError",
     "evalue": "'list' object is not an iterator",
     "output_type": "error",
     "traceback": [
      "\u001b[1;31m---------------------------------------------------------------------------\u001b[0m",
      "\u001b[1;31mTypeError\u001b[0m                                 Traceback (most recent call last)",
      "Cell \u001b[1;32mIn[2], line 3\u001b[0m\n\u001b[0;32m      1\u001b[0m a \u001b[38;5;241m=\u001b[39m [\u001b[38;5;241m10\u001b[39m, \u001b[38;5;241m20\u001b[39m]\n\u001b[0;32m      2\u001b[0m a\u001b[38;5;241m.\u001b[39m\u001b[38;5;21m__iter__\u001b[39m()\n\u001b[1;32m----> 3\u001b[0m \u001b[38;5;28;43mnext\u001b[39;49m\u001b[43m(\u001b[49m\u001b[43ma\u001b[49m\u001b[43m)\u001b[49m\n",
      "\u001b[1;31mTypeError\u001b[0m: 'list' object is not an iterator"
     ]
    }
   ],
   "source": [
    "a = [10, 20]\n",
    "a.__iter__()\n",
    "# next(a)   # iterator 객체가 아님!!"
   ]
  },
  {
   "cell_type": "code",
   "execution_count": 3,
   "metadata": {},
   "outputs": [
    {
     "data": {
      "text/plain": [
       "(10, 20)"
      ]
     },
     "execution_count": 3,
     "metadata": {},
     "output_type": "execute_result"
    }
   ],
   "source": [
    "### iter(데이터) : iterator 인스턴스 생성\n",
    "b = iter(a)\n",
    "next(b), next(b)"
   ]
  },
  {
   "cell_type": "code",
   "execution_count": 4,
   "metadata": {},
   "outputs": [
    {
     "ename": "StopIteration",
     "evalue": "",
     "output_type": "error",
     "traceback": [
      "\u001b[1;31m---------------------------------------------------------------------------\u001b[0m",
      "\u001b[1;31mStopIteration\u001b[0m                             Traceback (most recent call last)",
      "Cell \u001b[1;32mIn[4], line 1\u001b[0m\n\u001b[1;32m----> 1\u001b[0m \u001b[38;5;28;43mnext\u001b[39;49m\u001b[43m(\u001b[49m\u001b[43mb\u001b[49m\u001b[43m)\u001b[49m\n",
      "\u001b[1;31mStopIteration\u001b[0m: "
     ]
    }
   ],
   "source": [
    "### 더 이상 가져올 데이터가 없는 경우 ERROR 발생\n",
    "next(b)     # StopIteration 발생"
   ]
  },
  {
   "cell_type": "markdown",
   "metadata": {},
   "source": [
    "### [제너레이터 함수]\n",
    "- 형식 : def 함수명(): yield 반환값\n",
    "- 코드 실행 후 결과를 반환\n",
    "- 실행 된 상태 정보 유지 => 다시 호출되면 이전 실행 정보를 바탕으로 동작함\n",
    "- 장점 : 메모리 효율 => 대량의 데이터 처리에 효율적 => 현재 실행되는 만큼만 메모리 사용"
   ]
  },
  {
   "cell_type": "code",
   "execution_count": 14,
   "metadata": {},
   "outputs": [
    {
     "data": {
      "text/plain": [
       "(function,\n",
       " [10,\n",
       "  20,\n",
       "  30,\n",
       "  40,\n",
       "  10,\n",
       "  20,\n",
       "  30,\n",
       "  40,\n",
       "  10,\n",
       "  20,\n",
       "  30,\n",
       "  40,\n",
       "  10,\n",
       "  20,\n",
       "  30,\n",
       "  40,\n",
       "  10,\n",
       "  20,\n",
       "  30,\n",
       "  40,\n",
       "  10,\n",
       "  20,\n",
       "  30,\n",
       "  40,\n",
       "  10,\n",
       "  20,\n",
       "  30,\n",
       "  40,\n",
       "  10,\n",
       "  20,\n",
       "  30,\n",
       "  40,\n",
       "  10,\n",
       "  20,\n",
       "  30,\n",
       "  40,\n",
       "  10,\n",
       "  20,\n",
       "  30,\n",
       "  40])"
      ]
     },
     "execution_count": 14,
     "metadata": {},
     "output_type": "execute_result"
    }
   ],
   "source": [
    "def make_value():\n",
    "    data = [10, 20, 30, 40]\n",
    "    return data * 10\n",
    "\n",
    "type(make_value), make_value()"
   ]
  },
  {
   "cell_type": "code",
   "execution_count": 13,
   "metadata": {},
   "outputs": [
    {
     "data": {
      "text/plain": [
       "(function, <generator object make_value2 at 0x000001768D0ED510>)"
      ]
     },
     "execution_count": 13,
     "metadata": {},
     "output_type": "execute_result"
    }
   ],
   "source": [
    "def make_value2():\n",
    "    data = [10, 20, 30, 40]\n",
    "    yield data * 3\n",
    "\n",
    "type(make_value2), make_value2()"
   ]
  },
  {
   "cell_type": "code",
   "execution_count": 28,
   "metadata": {},
   "outputs": [
    {
     "data": {
      "text/plain": [
       "[10, 20, 30, 40, 10, 20, 30, 40, 10, 20, 30, 40]"
      ]
     },
     "execution_count": 28,
     "metadata": {},
     "output_type": "execute_result"
    }
   ],
   "source": [
    "m2 = make_value2()\n",
    "m2.__next__()"
   ]
  },
  {
   "cell_type": "code",
   "execution_count": 23,
   "metadata": {},
   "outputs": [],
   "source": [
    "class A:\n",
    "    \n",
    "    def __init__(self, data):\n",
    "        self.data = data\n",
    "    \n",
    "    # 연산자 오버라이딩\n",
    "    def __add__(self, other):\n",
    "        return self.data + other.data\n",
    "    \n",
    "    def __sub__(self, other):\n",
    "        return self.data - other.data\n",
    "    \n",
    "    # next() 내장함수 호출 시 호출되는 메서드\n",
    "    def __next__(self):\n",
    "        return self.data * 10"
   ]
  },
  {
   "cell_type": "code",
   "execution_count": 24,
   "metadata": {},
   "outputs": [
    {
     "data": {
      "text/plain": [
       "30"
      ]
     },
     "execution_count": 24,
     "metadata": {},
     "output_type": "execute_result"
    }
   ],
   "source": [
    "a1, a2 = A(18), A(12)\n",
    "\n",
    "a1 + a2"
   ]
  },
  {
   "cell_type": "code",
   "execution_count": 26,
   "metadata": {},
   "outputs": [
    {
     "data": {
      "text/plain": [
       "180"
      ]
     },
     "execution_count": 26,
     "metadata": {},
     "output_type": "execute_result"
    }
   ],
   "source": [
    "next(a1)"
   ]
  },
  {
   "cell_type": "code",
   "execution_count": null,
   "metadata": {},
   "outputs": [],
   "source": []
  }
 ],
 "metadata": {
  "kernelspec": {
   "display_name": "Torch_NLP38",
   "language": "python",
   "name": "python3"
  },
  "language_info": {
   "codemirror_mode": {
    "name": "ipython",
    "version": 3
   },
   "file_extension": ".py",
   "mimetype": "text/x-python",
   "name": "python",
   "nbconvert_exporter": "python",
   "pygments_lexer": "ipython3",
   "version": "3.8.19"
  }
 },
 "nbformat": 4,
 "nbformat_minor": 2
}
