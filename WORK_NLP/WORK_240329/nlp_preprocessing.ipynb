{
 "cells": [
  {
   "cell_type": "code",
   "execution_count": 1,
   "id": "initial_id",
   "metadata": {
    "collapsed": true,
    "ExecuteTime": {
     "end_time": "2024-03-31T19:22:09.229024600Z",
     "start_time": "2024-03-31T19:22:08.451368100Z"
    }
   },
   "outputs": [],
   "source": [
    "from urllib.request import urlretrieve\n",
    "\n",
    "train_url = \"https://raw.githubusercontent.com/e9t/nsmc/master/ratings_train.txt\"\n",
    "filename = './ratings_train.txt'\n",
    "\n",
    "ret = urlretrieve(url=train_url, filename=filename)"
   ]
  },
  {
   "cell_type": "code",
   "outputs": [],
   "source": [
    "import pandas as pd"
   ],
   "metadata": {
    "collapsed": false,
    "ExecuteTime": {
     "end_time": "2024-03-31T19:22:27.862688500Z",
     "start_time": "2024-03-31T19:22:27.192576100Z"
    }
   },
   "id": "d6ae466c43c2fee8",
   "execution_count": 2
  },
  {
   "cell_type": "code",
   "outputs": [],
   "source": [
    "trainDF = pd.read_table(filename)   # 탭, 공백 등으로 나뉘어 있을 때 사용"
   ],
   "metadata": {
    "collapsed": false,
    "ExecuteTime": {
     "end_time": "2024-03-31T19:22:35.925779100Z",
     "start_time": "2024-03-31T19:22:35.551717100Z"
    }
   },
   "id": "d96d31726871b9a9",
   "execution_count": 3
  },
  {
   "cell_type": "code",
   "outputs": [
    {
     "data": {
      "text/plain": "              id                                           document  label\n0        9976970                                아 더빙.. 진짜 짜증나네요 목소리      0\n1        3819312                  흠...포스터보고 초딩영화줄....오버연기조차 가볍지 않구나      1\n2       10265843                                  너무재밓었다그래서보는것을추천한다      0\n3        9045019                      교도소 이야기구먼 ..솔직히 재미는 없다..평점 조정      0\n4        6483659  사이몬페그의 익살스런 연기가 돋보였던 영화!스파이더맨에서 늙어보이기만 했던 커스틴 ...      1\n...          ...                                                ...    ...\n149995   6222902                                인간이 문제지.. 소는 뭔죄인가..      0\n149996   8549745                                      평점이 너무 낮아서...      1\n149997   9311800                    이게 뭐요? 한국인은 거들먹거리고 필리핀 혼혈은 착하다?      0\n149998   2376369                        청춘 영화의 최고봉.방황과 우울했던 날들의 자화상      1\n149999   9619869                           한국 영화 최초로 수간하는 내용이 담긴 영화      0\n\n[150000 rows x 3 columns]",
      "text/html": "<div>\n<style scoped>\n    .dataframe tbody tr th:only-of-type {\n        vertical-align: middle;\n    }\n\n    .dataframe tbody tr th {\n        vertical-align: top;\n    }\n\n    .dataframe thead th {\n        text-align: right;\n    }\n</style>\n<table border=\"1\" class=\"dataframe\">\n  <thead>\n    <tr style=\"text-align: right;\">\n      <th></th>\n      <th>id</th>\n      <th>document</th>\n      <th>label</th>\n    </tr>\n  </thead>\n  <tbody>\n    <tr>\n      <th>0</th>\n      <td>9976970</td>\n      <td>아 더빙.. 진짜 짜증나네요 목소리</td>\n      <td>0</td>\n    </tr>\n    <tr>\n      <th>1</th>\n      <td>3819312</td>\n      <td>흠...포스터보고 초딩영화줄....오버연기조차 가볍지 않구나</td>\n      <td>1</td>\n    </tr>\n    <tr>\n      <th>2</th>\n      <td>10265843</td>\n      <td>너무재밓었다그래서보는것을추천한다</td>\n      <td>0</td>\n    </tr>\n    <tr>\n      <th>3</th>\n      <td>9045019</td>\n      <td>교도소 이야기구먼 ..솔직히 재미는 없다..평점 조정</td>\n      <td>0</td>\n    </tr>\n    <tr>\n      <th>4</th>\n      <td>6483659</td>\n      <td>사이몬페그의 익살스런 연기가 돋보였던 영화!스파이더맨에서 늙어보이기만 했던 커스틴 ...</td>\n      <td>1</td>\n    </tr>\n    <tr>\n      <th>...</th>\n      <td>...</td>\n      <td>...</td>\n      <td>...</td>\n    </tr>\n    <tr>\n      <th>149995</th>\n      <td>6222902</td>\n      <td>인간이 문제지.. 소는 뭔죄인가..</td>\n      <td>0</td>\n    </tr>\n    <tr>\n      <th>149996</th>\n      <td>8549745</td>\n      <td>평점이 너무 낮아서...</td>\n      <td>1</td>\n    </tr>\n    <tr>\n      <th>149997</th>\n      <td>9311800</td>\n      <td>이게 뭐요? 한국인은 거들먹거리고 필리핀 혼혈은 착하다?</td>\n      <td>0</td>\n    </tr>\n    <tr>\n      <th>149998</th>\n      <td>2376369</td>\n      <td>청춘 영화의 최고봉.방황과 우울했던 날들의 자화상</td>\n      <td>1</td>\n    </tr>\n    <tr>\n      <th>149999</th>\n      <td>9619869</td>\n      <td>한국 영화 최초로 수간하는 내용이 담긴 영화</td>\n      <td>0</td>\n    </tr>\n  </tbody>\n</table>\n<p>150000 rows × 3 columns</p>\n</div>"
     },
     "execution_count": 4,
     "metadata": {},
     "output_type": "execute_result"
    }
   ],
   "source": [
    "trainDF\n",
    "# 26 : 영어 포함\n",
    "# 31 : ㅋㅋ 포함\n",
    "# 33 : 숫자 포함\n",
    "# 48 : ^^; 포함\n",
    "# 49 : ... 포함"
   ],
   "metadata": {
    "collapsed": false,
    "ExecuteTime": {
     "end_time": "2024-03-31T19:22:38.173347Z",
     "start_time": "2024-03-31T19:22:38.150034600Z"
    }
   },
   "id": "eccf1d197491f1af",
   "execution_count": 4
  },
  {
   "cell_type": "code",
   "outputs": [],
   "source": [
    "def kor_nlp_preprocessing(inputSR):\n",
    "    \"\"\"\n",
    "    한국어 NLP 전처리 (결측치 제거, 한글과 공백만 남김, 한글 줄임말 제거)\n",
    "    :param inputSR: 한국어 문장으로 구성된 pandas Series 객체\n",
    "    :return: 전처리가 끝난 pandas Series 객체\n",
    "    \"\"\"\n",
    "    \n",
    "    if not isinstance(inputSR, pd.Series):\n",
    "        print('Series 객체가 아님')\n",
    "        return False\n",
    "    \n",
    "    ### 결측치 제거\n",
    "    inputSR = inputSR.dropna()\n",
    "    \n",
    "    ### 한글과 공백만 남김\n",
    "    inputSR = inputSR.str.replace(\"[^ㄱ-ㅎㅏ-ㅣ가-힣 ]\", '', regex=True)\n",
    "    \n",
    "    ### 한글 줄임말 제거\n",
    "    inputSR = inputSR.str.replace('[ㄱ-ㅎㅏ-ㅣ]+', '', regex=True)\n",
    "    \n",
    "    return inputSR"
   ],
   "metadata": {
    "collapsed": false,
    "ExecuteTime": {
     "end_time": "2024-03-31T19:29:25.493795300Z",
     "start_time": "2024-03-31T19:29:25.480715800Z"
    }
   },
   "id": "8720e462beda6664",
   "execution_count": 8
  },
  {
   "cell_type": "code",
   "outputs": [],
   "source": [
    "result = kor_nlp_preprocessing(trainDF['document'])"
   ],
   "metadata": {
    "collapsed": false,
    "ExecuteTime": {
     "end_time": "2024-03-31T19:29:55.072694Z",
     "start_time": "2024-03-31T19:29:54.542723Z"
    }
   },
   "id": "b2ecd8004f5c31af",
   "execution_count": 12
  },
  {
   "cell_type": "code",
   "outputs": [
    {
     "data": {
      "text/plain": "' 고추를 털어버려야 할텐데'"
     },
     "execution_count": 13,
     "metadata": {},
     "output_type": "execute_result"
    }
   ],
   "source": [
    "result[26]  # 영어 제거 완료"
   ],
   "metadata": {
    "collapsed": false,
    "ExecuteTime": {
     "end_time": "2024-03-31T19:30:10.361732800Z",
     "start_time": "2024-03-31T19:30:10.327255100Z"
    }
   },
   "id": "db2c73f65b3e4063",
   "execution_count": 13
  },
  {
   "cell_type": "code",
   "outputs": [
    {
     "data": {
      "text/plain": "'졸쓰레기 진부하고말도안됌 아시간아까워'"
     },
     "execution_count": 14,
     "metadata": {},
     "output_type": "execute_result"
    }
   ],
   "source": [
    "result[31]  # ㅋㅋ 제거 완료"
   ],
   "metadata": {
    "collapsed": false,
    "ExecuteTime": {
     "end_time": "2024-03-31T19:30:29.150149400Z",
     "start_time": "2024-03-31T19:30:29.121453600Z"
    }
   },
   "id": "f3f2f90ddaf895fe",
   "execution_count": 14
  },
  {
   "cell_type": "code",
   "outputs": [
    {
     "data": {
      "text/plain": "'라도 기대했던 내가 죄인입니다 죄인입니다'"
     },
     "execution_count": 15,
     "metadata": {},
     "output_type": "execute_result"
    }
   ],
   "source": [
    "result[33]  # 숫자 제거 완료"
   ],
   "metadata": {
    "collapsed": false,
    "ExecuteTime": {
     "end_time": "2024-03-31T19:31:14.070522300Z",
     "start_time": "2024-03-31T19:31:14.040195700Z"
    }
   },
   "id": "9bf27fa6e7a260b2",
   "execution_count": 15
  },
  {
   "cell_type": "code",
   "outputs": [
    {
     "data": {
      "text/plain": "'난 우리영화를 사랑합니다'"
     },
     "execution_count": 16,
     "metadata": {},
     "output_type": "execute_result"
    }
   ],
   "source": [
    "result[48]  # ^^; 제거 완료"
   ],
   "metadata": {
    "collapsed": false,
    "ExecuteTime": {
     "end_time": "2024-03-31T19:31:39.336774100Z",
     "start_time": "2024-03-31T19:31:39.308324100Z"
    }
   },
   "id": "1db290041862bc4e",
   "execution_count": 16
  },
  {
   "cell_type": "code",
   "outputs": [
    {
     "data": {
      "text/plain": "'데너리스 타르 가르엔나도 용의주인이 되고 싶다누이랑근친상간이나 하고 다닐지라도소설 속에선 제일 멋진 놈이 자이메 라니스터였는데드라마속에선드래곤용이 제일 멋지네웃음감독님 토르 다크 월드는 말아 잡수셨을지라도기본 선방은 했음'"
     },
     "execution_count": 17,
     "metadata": {},
     "output_type": "execute_result"
    }
   ],
   "source": [
    "result[49]  # ... 제거 완료"
   ],
   "metadata": {
    "collapsed": false,
    "ExecuteTime": {
     "end_time": "2024-03-31T19:32:05.004304600Z",
     "start_time": "2024-03-31T19:32:04.978141Z"
    }
   },
   "id": "8441df7e4c59989d",
   "execution_count": 17
  },
  {
   "cell_type": "code",
   "outputs": [],
   "source": [],
   "metadata": {
    "collapsed": false
   },
   "id": "9b042e3a5c77d816"
  }
 ],
 "metadata": {
  "kernelspec": {
   "display_name": "Python 3",
   "language": "python",
   "name": "python3"
  },
  "language_info": {
   "codemirror_mode": {
    "name": "ipython",
    "version": 2
   },
   "file_extension": ".py",
   "mimetype": "text/x-python",
   "name": "python",
   "nbconvert_exporter": "python",
   "pygments_lexer": "ipython2",
   "version": "2.7.6"
  }
 },
 "nbformat": 4,
 "nbformat_minor": 5
}
